{
 "cells": [
  {
   "cell_type": "code",
   "execution_count": 1,
   "metadata": {},
   "outputs": [
    {
     "name": "stderr",
     "output_type": "stream",
     "text": [
      "/home/grzegorz/.local/lib/python3.6/site-packages/tensorflow/python/framework/dtypes.py:516: FutureWarning: Passing (type, 1) or '1type' as a synonym of type is deprecated; in a future version of numpy, it will be understood as (type, (1,)) / '(1,)type'.\n",
      "  _np_qint8 = np.dtype([(\"qint8\", np.int8, 1)])\n",
      "/home/grzegorz/.local/lib/python3.6/site-packages/tensorflow/python/framework/dtypes.py:517: FutureWarning: Passing (type, 1) or '1type' as a synonym of type is deprecated; in a future version of numpy, it will be understood as (type, (1,)) / '(1,)type'.\n",
      "  _np_quint8 = np.dtype([(\"quint8\", np.uint8, 1)])\n",
      "/home/grzegorz/.local/lib/python3.6/site-packages/tensorflow/python/framework/dtypes.py:518: FutureWarning: Passing (type, 1) or '1type' as a synonym of type is deprecated; in a future version of numpy, it will be understood as (type, (1,)) / '(1,)type'.\n",
      "  _np_qint16 = np.dtype([(\"qint16\", np.int16, 1)])\n",
      "/home/grzegorz/.local/lib/python3.6/site-packages/tensorflow/python/framework/dtypes.py:519: FutureWarning: Passing (type, 1) or '1type' as a synonym of type is deprecated; in a future version of numpy, it will be understood as (type, (1,)) / '(1,)type'.\n",
      "  _np_quint16 = np.dtype([(\"quint16\", np.uint16, 1)])\n",
      "/home/grzegorz/.local/lib/python3.6/site-packages/tensorflow/python/framework/dtypes.py:520: FutureWarning: Passing (type, 1) or '1type' as a synonym of type is deprecated; in a future version of numpy, it will be understood as (type, (1,)) / '(1,)type'.\n",
      "  _np_qint32 = np.dtype([(\"qint32\", np.int32, 1)])\n",
      "/home/grzegorz/.local/lib/python3.6/site-packages/tensorflow/python/framework/dtypes.py:525: FutureWarning: Passing (type, 1) or '1type' as a synonym of type is deprecated; in a future version of numpy, it will be understood as (type, (1,)) / '(1,)type'.\n",
      "  np_resource = np.dtype([(\"resource\", np.ubyte, 1)])\n"
     ]
    }
   ],
   "source": [
    "import tensorflow as tf\n",
    "import tensorflow_datasets as tfds"
   ]
  },
  {
   "cell_type": "code",
   "execution_count": 2,
   "metadata": {},
   "outputs": [],
   "source": [
    "from tensorflow.compat.v1 import ConfigProto\n",
    "from tensorflow.compat.v1 import InteractiveSession\n",
    "\n",
    "config = ConfigProto()\n",
    "config.gpu_options.allow_growth = True\n",
    "session = InteractiveSession(config=config)"
   ]
  },
  {
   "cell_type": "code",
   "execution_count": 3,
   "metadata": {},
   "outputs": [],
   "source": [
    "padding = \"SAME\"  #@param ['SAME', 'VALID' ]\n",
    "num_output_classes = 102  #@param {type: \"number\"}\n",
    "batch_size = 32  #@param {type: \"number\"}\n",
    "learning_rate = 0.001  #@param {type: \"number\"}"
   ]
  },
  {
   "cell_type": "code",
   "execution_count": 4,
   "metadata": {},
   "outputs": [],
   "source": [
    "dataset_name = 'horses_or_humans'\n",
    "\n",
    "dataset = tfds.load( name=dataset_name , split=tfds.Split.TRAIN )\n",
    "dataset = dataset.shuffle( 1024 ).batch( batch_size )"
   ]
  },
  {
   "cell_type": "code",
   "execution_count": 5,
   "metadata": {},
   "outputs": [],
   "source": [
    "leaky_relu_alpha = 0.2\n",
    "dropout_rate = 0.5\n",
    "\n",
    "def conv2d( inputs , filters , stride_size ):\n",
    "    out = tf.nn.conv2d( inputs , filters , strides=[ 1 , stride_size , stride_size , 1 ] , padding=padding ) \n",
    "    return tf.nn.leaky_relu( out , alpha=leaky_relu_alpha ) \n",
    "\n",
    "def maxpool( inputs , pool_size , stride_size ):\n",
    "    return tf.nn.max_pool2d( inputs , ksize=[ 1 , pool_size , pool_size , 1 ] , padding='VALID' , strides=[ 1 , stride_size , stride_size , 1 ] )\n",
    "\n",
    "def dense( inputs , weights ):\n",
    "    x = tf.nn.leaky_relu( tf.matmul( inputs , weights ) , alpha=leaky_relu_alpha )\n",
    "    return tf.nn.dropout( x , rate=dropout_rate )"
   ]
  },
  {
   "cell_type": "code",
   "execution_count": 6,
   "metadata": {},
   "outputs": [],
   "source": [
    "output_classes = 3\n",
    "initializer = tf.initializers.glorot_uniform()\n",
    "def get_weight( shape , name ):\n",
    "    return tf.Variable( initializer( shape ) , name=name , trainable=True , dtype=tf.float32 )\n",
    "\n",
    "shapes = [\n",
    "    [ 3 , 3 , 3 , 16 ] , \n",
    "    [ 3 , 3 , 16 , 16 ] , \n",
    "    [ 3 , 3 , 16 , 32 ] , \n",
    "    [ 3 , 3 , 32 , 32 ] ,\n",
    "    [ 3 , 3 , 32 , 64 ] , \n",
    "    [ 3 , 3 , 64 , 64 ] ,\n",
    "    [ 3 , 3 , 64 , 128 ] , \n",
    "    [ 3 , 3 , 128 , 128 ] ,\n",
    "    [ 3 , 3 , 128 , 256 ] , \n",
    "    [ 3 , 3 , 256 , 256 ] ,\n",
    "    [ 3 , 3 , 256 , 512 ] , \n",
    "    [ 3 , 3 , 512 , 512 ] ,\n",
    "    [ 8192 , 3600 ] , \n",
    "    [ 3600 , 2400 ] ,\n",
    "    [ 2400 , 1600 ] , \n",
    "    [ 1600 , 800 ] ,\n",
    "    [ 800 , 64 ] ,\n",
    "    [ 64 , output_classes ] ,\n",
    "]\n",
    "\n",
    "weights = []\n",
    "for i in range( len( shapes ) ):\n",
    "    weights.append( get_weight( shapes[ i ] , 'weight{}'.format( i ) ) )"
   ]
  },
  {
   "cell_type": "code",
   "execution_count": 7,
   "metadata": {},
   "outputs": [],
   "source": [
    "def model( x ) :\n",
    "    x = tf.cast( x , dtype=tf.float32 )\n",
    "    c1 = conv2d( x , weights[ 0 ] , stride_size=1 ) \n",
    "    c1 = conv2d( c1 , weights[ 1 ] , stride_size=1 ) \n",
    "    p1 = maxpool( c1 , pool_size=2 , stride_size=2 )\n",
    "    \n",
    "    c2 = conv2d( p1 , weights[ 2 ] , stride_size=1 )\n",
    "    c2 = conv2d( c2 , weights[ 3 ] , stride_size=1 ) \n",
    "    p2 = maxpool( c2 , pool_size=2 , stride_size=2 )\n",
    "    \n",
    "    c3 = conv2d( p2 , weights[ 4 ] , stride_size=1 ) \n",
    "    c3 = conv2d( c3 , weights[ 5 ] , stride_size=1 ) \n",
    "    p3 = maxpool( c3 , pool_size=2 , stride_size=2 )\n",
    "    \n",
    "    c4 = conv2d( p3 , weights[ 6 ] , stride_size=1 )\n",
    "    c4 = conv2d( c4 , weights[ 7 ] , stride_size=1 )\n",
    "    p4 = maxpool( c4 , pool_size=2 , stride_size=2 )\n",
    "\n",
    "    c5 = conv2d( p4 , weights[ 8 ] , stride_size=1 )\n",
    "    c5 = conv2d( c5 , weights[ 9 ] , stride_size=1 )\n",
    "    p5 = maxpool( c5 , pool_size=2 , stride_size=2 )\n",
    "\n",
    "    c6 = conv2d( p5 , weights[ 10 ] , stride_size=1 )\n",
    "    c6 = conv2d( c6 , weights[ 11 ] , stride_size=1 )\n",
    "    p6 = maxpool( c6 , pool_size=2 , stride_size=2 )\n",
    "\n",
    "    flatten = tf.reshape( p6 , shape=( tf.shape( p6 )[0] , -1 ))\n",
    "\n",
    "    d1 = dense( flatten , weights[ 12 ] )\n",
    "    d2 = dense( d1 , weights[ 13 ] )\n",
    "    d3 = dense( d2 , weights[ 14 ] )\n",
    "    d4 = dense( d3 , weights[ 15 ] )\n",
    "    d5 = dense( d4 , weights[ 16 ] )\n",
    "    logits = tf.matmul( d5 , weights[ 17 ] )\n",
    "\n",
    "    return tf.nn.softmax( logits )"
   ]
  },
  {
   "cell_type": "code",
   "execution_count": 8,
   "metadata": {},
   "outputs": [],
   "source": [
    "def loss( pred , target ):\n",
    "    return tf.losses.categorical_crossentropy( target , pred )\n",
    "\n",
    "optimizer = tf.optimizers.Adam( learning_rate )\n",
    "\n",
    "def train_step( model, inputs , outputs ):\n",
    "    with tf.GradientTape() as tape:\n",
    "        current_loss = loss( model( inputs ), outputs)\n",
    "    grads = tape.gradient( current_loss , weights )\n",
    "    optimizer.apply_gradients( zip( grads , weights ) )\n",
    "    print( tf.reduce_mean( current_loss ) )"
   ]
  },
  {
   "cell_type": "code",
   "execution_count": null,
   "metadata": {},
   "outputs": [
    {
     "name": "stdout",
     "output_type": "stream",
     "text": [
      "WARNING:tensorflow:From /home/grzegorz/.local/lib/python3.6/site-packages/tensorflow/python/ops/math_grad.py:1220: add_dispatch_support.<locals>.wrapper (from tensorflow.python.ops.array_ops) is deprecated and will be removed in a future version.\n",
      "Instructions for updating:\n",
      "Use tf.where in 2.0, which has the same broadcast rule as np.where\n"
     ]
    },
    {
     "name": "stderr",
     "output_type": "stream",
     "text": [
      "WARNING:tensorflow:From /home/grzegorz/.local/lib/python3.6/site-packages/tensorflow/python/ops/math_grad.py:1220: add_dispatch_support.<locals>.wrapper (from tensorflow.python.ops.array_ops) is deprecated and will be removed in a future version.\n",
      "Instructions for updating:\n",
      "Use tf.where in 2.0, which has the same broadcast rule as np.where\n"
     ]
    },
    {
     "name": "stdout",
     "output_type": "stream",
     "text": [
      "tf.Tensor(1.8505085, shape=(), dtype=float32)\n",
      "tf.Tensor(8.127462, shape=(), dtype=float32)\n",
      "tf.Tensor(5.042244, shape=(), dtype=float32)\n",
      "tf.Tensor(1.3275354, shape=(), dtype=float32)\n",
      "tf.Tensor(6.51622, shape=(), dtype=float32)\n",
      "tf.Tensor(7.1236086, shape=(), dtype=float32)\n",
      "tf.Tensor(9.570119, shape=(), dtype=float32)\n",
      "tf.Tensor(10.07381, shape=(), dtype=float32)\n",
      "tf.Tensor(9.570119, shape=(), dtype=float32)\n",
      "tf.Tensor(9.570119, shape=(), dtype=float32)\n",
      "tf.Tensor(8.562738, shape=(), dtype=float32)\n",
      "tf.Tensor(8.562738, shape=(), dtype=float32)\n",
      "tf.Tensor(7.555357, shape=(), dtype=float32)\n",
      "tf.Tensor(7.051667, shape=(), dtype=float32)\n",
      "tf.Tensor(8.059048, shape=(), dtype=float32)\n",
      "tf.Tensor(8.059048, shape=(), dtype=float32)\n",
      "tf.Tensor(8.562738, shape=(), dtype=float32)\n",
      "tf.Tensor(9.066429, shape=(), dtype=float32)\n",
      "tf.Tensor(7.555357, shape=(), dtype=float32)\n",
      "tf.Tensor(9.066429, shape=(), dtype=float32)\n",
      "tf.Tensor(7.555357, shape=(), dtype=float32)\n",
      "tf.Tensor(10.07381, shape=(), dtype=float32)\n",
      "tf.Tensor(6.5479765, shape=(), dtype=float32)\n",
      "tf.Tensor(8.562738, shape=(), dtype=float32)\n",
      "tf.Tensor(4.029524, shape=(), dtype=float32)\n",
      "tf.Tensor(6.5479765, shape=(), dtype=float32)\n",
      "tf.Tensor(8.059048, shape=(), dtype=float32)\n",
      "tf.Tensor(6.044286, shape=(), dtype=float32)\n",
      "tf.Tensor(8.562738, shape=(), dtype=float32)\n",
      "tf.Tensor(5.540595, shape=(), dtype=float32)\n",
      "tf.Tensor(7.5553575, shape=(), dtype=float32)\n",
      "tf.Tensor(6.044286, shape=(), dtype=float32)\n",
      "tf.Tensor(10.745397, shape=(), dtype=float32)\n"
     ]
    }
   ],
   "source": [
    "num_epochs = 256\n",
    "\n",
    "for e in range( num_epochs ):\n",
    "    for features in dataset:\n",
    "        image , label = features[ 'image' ] , features[ 'label' ]\n",
    "        train_step( model , image , tf.one_hot( label , depth=3 ) )"
   ]
  },
  {
   "cell_type": "code",
   "execution_count": null,
   "metadata": {},
   "outputs": [],
   "source": []
  }
 ],
 "metadata": {
  "kernelspec": {
   "display_name": "Python 3",
   "language": "python",
   "name": "python3"
  },
  "language_info": {
   "codemirror_mode": {
    "name": "ipython",
    "version": 3
   },
   "file_extension": ".py",
   "mimetype": "text/x-python",
   "name": "python",
   "nbconvert_exporter": "python",
   "pygments_lexer": "ipython3",
   "version": "3.6.8"
  }
 },
 "nbformat": 4,
 "nbformat_minor": 2
}
