{
 "cells": [
  {
   "cell_type": "code",
   "execution_count": null,
   "metadata": {},
   "outputs": [],
   "source": [
    "import os \n",
    "import shutil\n",
    "import random \n",
    "from PIL import Image\n",
    "import piexif"
   ]
  },
  {
   "cell_type": "code",
   "execution_count": null,
   "metadata": {},
   "outputs": [],
   "source": [
    "path = '/home/grzegorz/Pulpit/Projects/Data/OregonWildlife/'"
   ]
  },
  {
   "cell_type": "code",
   "execution_count": null,
   "metadata": {},
   "outputs": [],
   "source": [
    "random.seed(123456789)"
   ]
  },
  {
   "cell_type": "code",
   "execution_count": null,
   "metadata": {},
   "outputs": [],
   "source": [
    "animals = os.listdir(os.path.join(path, 'oregon_wildlife'))"
   ]
  },
  {
   "cell_type": "code",
   "execution_count": null,
   "metadata": {},
   "outputs": [],
   "source": [
    "if not os.path.exists(os.path.join(path, 'models')):\n",
    "    os.mkdir(os.path.join(path, 'models'))"
   ]
  },
  {
   "cell_type": "code",
   "execution_count": null,
   "metadata": {},
   "outputs": [],
   "source": [
    "splits = ['train', 'test', 'val']"
   ]
  },
  {
   "cell_type": "code",
   "execution_count": null,
   "metadata": {},
   "outputs": [],
   "source": [
    "for s in splits:\n",
    "    if not os.path.exists(os.path.join(path, 'models', s)):\n",
    "        os.mkdir(os.path.join(path, 'models', s))\n",
    "    for animal in animals:\n",
    "        if not os.path.exists(os.path.join(path, 'models', s, animal)):\n",
    "            os.mkdir(os.path.join(path, 'models', s, animal))"
   ]
  },
  {
   "cell_type": "code",
   "execution_count": null,
   "metadata": {
    "scrolled": true
   },
   "outputs": [],
   "source": [
    "for animal in animals:\n",
    "    files = os.listdir(os.path.join(path, 'oregon_wildlife', animal))\n",
    "    files = [f for f in files if 'gif' in f]\n",
    "    print(animal)\n",
    "    print(files)\n",
    "    for f in files:\n",
    "        os.remove(os.path.join(path, 'oregon_wildlife', animal, f))\n",
    "    files = os.listdir(os.path.join(path, 'oregon_wildlife', animal))\n",
    "    files = [f for f in files if 'bmp' in f]\n",
    "    print(animal)\n",
    "    print(files)\n",
    "    for f in files:\n",
    "        os.remove(os.path.join(path, 'oregon_wildlife', animal, f))\n",
    "    files = os.listdir(os.path.join(path, 'oregon_wildlife', animal))\n",
    "    files = [f for f in files if 'tif' in f]\n",
    "    print(animal)\n",
    "    print(files)\n",
    "    for f in files:\n",
    "        os.remove(os.path.join(path, 'oregon_wildlife', animal, f))"
   ]
  },
  {
   "cell_type": "code",
   "execution_count": null,
   "metadata": {},
   "outputs": [],
   "source": [
    "# for animal in animals:\n",
    "#     listImages = os.listdir(os.path.join(path, 'oregon_wildlife', animal))\n",
    "#     for img in listImages:\n",
    "#         imgPath = os.path.join(os.path.join(path, 'oregon_wildlife', animal, img))\n",
    "#         #print(imgPath)\n",
    "#         try:\n",
    "#             img = Image.open(imgPath)\n",
    "#             exif_data = img._getexif()\n",
    "#         except Warning as err:\n",
    "#             print(\"Error on image: \", img)"
   ]
  },
  {
   "cell_type": "code",
   "execution_count": null,
   "metadata": {},
   "outputs": [],
   "source": [
    "#     i=1\n",
    "#     listImages = os.listdir(os.path.join(path, 'oregon_wildlife', animals[i]))\n",
    "#     for img in listImages:\n",
    "#         imgPath = os.path.join(os.path.join(path, 'oregon_wildlife', animals[i], img))\n",
    "#         print(imgPath)\n",
    "#         try:\n",
    "#             img = Image.open(imgPath)\n",
    "#             exif_data = img._getexif()\n",
    "#         except ValueError as err:\n",
    "#             print(err)\n",
    "#             print(animal)\n",
    "#             print(\"Error on image: \", img)"
   ]
  },
  {
   "cell_type": "code",
   "execution_count": null,
   "metadata": {},
   "outputs": [],
   "source": [
    "def clean_image(photo, path):\n",
    "    im = Image.open(os.path.join(path, photo))\n",
    "    rgb_im = im.convert('RGB')\n",
    "    rgb_im.save(os.path.join(path, photo.split('.')[0] + '.jpg'))"
   ]
  },
  {
   "cell_type": "code",
   "execution_count": null,
   "metadata": {},
   "outputs": [],
   "source": [
    "def make_split(animal):\n",
    "    files = os.listdir(os.path.join(path, 'oregon_wildlife', animal))\n",
    "    png = [f for f in files if '.png' in f]\n",
    "    for f in png:\n",
    "        clean_image(f, os.path.join(path, 'oregon_wildlife', animal))\n",
    "    files = os.listdir(os.path.join(path, 'oregon_wildlife', animal))\n",
    "    files = [f for f in files if not '.png' in f]\n",
    "    random.shuffle(files)\n",
    "    train_size = int(len(files) * 0.7)\n",
    "    move_files(files[:train_size], os.path.join(path, 'oregon_wildlife', animal), \n",
    "              os.path.join(path, 'models', 'train', animal))\n",
    "    val_size = int(len(files[:train_size]) * 0.33)\n",
    "    move_files(files[train_size+1:val_size+train_size], os.path.join(path, 'oregon_wildlife', animal), \n",
    "              os.path.join(path, 'models', 'val', animal))\n",
    "    move_files(files[val_size+train_size+1:], os.path.join(path, 'oregon_wildlife', animal), \n",
    "              os.path.join(path, 'models', 'test', animal))"
   ]
  },
  {
   "cell_type": "code",
   "execution_count": null,
   "metadata": {},
   "outputs": [],
   "source": [
    "def move_files(f_list, old_location, new_location):\n",
    "    for f in f_list:\n",
    "        try:\n",
    "            piexif.remove(os.path.join(old_location, f))\n",
    "            shutil.copyfile(os.path.join(old_location, f), os.path.join(new_location, f))\n",
    "        except:\n",
    "            pass"
   ]
  },
  {
   "cell_type": "code",
   "execution_count": null,
   "metadata": {},
   "outputs": [],
   "source": [
    "for animal in animals:\n",
    "    print(animal)\n",
    "    make_split(animal)"
   ]
  },
  {
   "cell_type": "code",
   "execution_count": null,
   "metadata": {},
   "outputs": [],
   "source": []
  }
 ],
 "metadata": {
  "kernelspec": {
   "display_name": "Python 3",
   "language": "python",
   "name": "python3"
  },
  "language_info": {
   "codemirror_mode": {
    "name": "ipython",
    "version": 3
   },
   "file_extension": ".py",
   "mimetype": "text/x-python",
   "name": "python",
   "nbconvert_exporter": "python",
   "pygments_lexer": "ipython3",
   "version": "3.6.9"
  }
 },
 "nbformat": 4,
 "nbformat_minor": 4
}
