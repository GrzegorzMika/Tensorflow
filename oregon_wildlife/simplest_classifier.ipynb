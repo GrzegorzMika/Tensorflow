{
 "cells": [
  {
   "cell_type": "code",
   "execution_count": null,
   "metadata": {},
   "outputs": [],
   "source": [
    "from __future__ import absolute_import, division, print_function, unicode_literals\n",
    "import os\n",
    "\n",
    "# TensorFlow and tf.keras\n",
    "import tensorflow as tf\n",
    "from tensorflow import keras\n",
    "from tensorflow.python.client import device_lib\n",
    "\n",
    "# Helper libraries\n",
    "import numpy as np\n",
    "import matplotlib.pyplot as plt\n",
    "\n",
    "print(tf.__version__)\n",
    "print(\"GPU\" + device_lib.list_local_devices()[-1].physical_device_desc.split(\",\")[1])"
   ]
  },
  {
   "cell_type": "code",
   "execution_count": null,
   "metadata": {},
   "outputs": [],
   "source": [
    "path = '/home/grzegorz/Pulpit/Projects/Data/OregonWildlife/models/'"
   ]
  },
  {
   "cell_type": "code",
   "execution_count": null,
   "metadata": {},
   "outputs": [],
   "source": [
    "def Loss(history): \n",
    "    loss = history.history['loss'] \n",
    "    val_loss = history.history['val_loss'] \n",
    "    epochs = range(1, len(loss) + 1) \n",
    "    plt.plot(epochs, loss, 'bo', label='Training loss') \n",
    "    plt.plot(epochs, val_loss, 'b', label='Validation loss') \n",
    "    plt.title('Training and validation loss') \n",
    "    plt.xlabel('Epochs') \n",
    "    plt.ylabel('Loss') \n",
    "    plt.legend() \n",
    "    plt.show() \n",
    "                                                                                                                                   \n",
    "\n",
    "def Accuracy(history): \n",
    "    acc = history.history['accuracy'] \n",
    "    val_acc = history.history['val_accuracy']\n",
    "    epochs = range(1, len(acc) + 1) \n",
    "    plt.plot(epochs, acc, 'bo', label='Training acc') \n",
    "    plt.plot(epochs, val_acc, 'b', label='Validation acc') \n",
    "    plt.title('Training and validation accuracy') \n",
    "    plt.xlabel('Epochs') \n",
    "    plt.ylabel('Loss') \n",
    "    plt.legend() \n",
    "    plt.show() "
   ]
  },
  {
   "cell_type": "code",
   "execution_count": null,
   "metadata": {},
   "outputs": [],
   "source": [
    "config = tf.compat.v1.ConfigProto()\n",
    "config.gpu_options.allow_growth = True\n",
    "session = tf.compat.v1.Session(config=config)"
   ]
  },
  {
   "cell_type": "code",
   "execution_count": null,
   "metadata": {},
   "outputs": [],
   "source": [
    "train_imagedata = keras.preprocessing.image.ImageDataGenerator(rescale=1. / 255)\n",
    "test_imagedata = keras.preprocessing.image.ImageDataGenerator(rescale=1. / 255)\n",
    "training_set = train_imagedata.flow_from_directory(os.path.join(path, 'train')\n",
    "        , target_size=(64, 64), batch_size=32, class_mode='categorical')\n",
    "val_set = test_imagedata.flow_from_directory(os.path.join(path, 'val')\n",
    "        , target_size=(64, 64), batch_size=32, class_mode='categorical')\n",
    "test_set = test_imagedata.flow_from_directory(os.path.join(path, 'test')\n",
    "        , target_size=(64, 64), batch_size=32, class_mode='categorical')"
   ]
  },
  {
   "cell_type": "code",
   "execution_count": null,
   "metadata": {},
   "outputs": [],
   "source": [
    "model = keras.Sequential([\n",
    "    keras.layers.Flatten(input_shape=(64, 64, 3)),\n",
    "    keras.layers.Dense(512, activation='relu'),\n",
    "    keras.layers.Dense(128, activation='relu'),\n",
    "    keras.layers.Dense(20, activation='softmax')\n",
    "])"
   ]
  },
  {
   "cell_type": "code",
   "execution_count": null,
   "metadata": {},
   "outputs": [],
   "source": [
    "model.compile(optimizer='adam',\n",
    "              loss='categorical_crossentropy',\n",
    "              metrics=['accuracy'])"
   ]
  },
  {
   "cell_type": "code",
   "execution_count": null,
   "metadata": {},
   "outputs": [],
   "source": [
    "history=model.fit_generator(training_set, steps_per_epoch=1200, epochs=100,\n",
    "                         validation_data=val_set, validation_steps=30)"
   ]
  },
  {
   "cell_type": "code",
   "execution_count": null,
   "metadata": {},
   "outputs": [],
   "source": [
    "test_loss, test_acc = model.evaluate_gnerator(test_set, verbose=2)\n",
    "print('\\nTest accuracy:', test_acc)"
   ]
  },
  {
   "cell_type": "code",
   "execution_count": null,
   "metadata": {},
   "outputs": [],
   "source": [
    "Accuracy(history)\n",
    "Loss(history)"
   ]
  }
 ],
 "metadata": {
  "kernelspec": {
   "display_name": "Python 3",
   "language": "python",
   "name": "python3"
  },
  "language_info": {
   "codemirror_mode": {
    "name": "ipython",
    "version": 3
   },
   "file_extension": ".py",
   "mimetype": "text/x-python",
   "name": "python",
   "nbconvert_exporter": "python",
   "pygments_lexer": "ipython3",
   "version": "3.6.9"
  }
 },
 "nbformat": 4,
 "nbformat_minor": 4
}
